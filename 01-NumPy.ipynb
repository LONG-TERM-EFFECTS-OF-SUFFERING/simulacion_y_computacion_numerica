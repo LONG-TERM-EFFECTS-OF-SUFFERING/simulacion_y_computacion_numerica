{
 "cells": [
  {
   "cell_type": "markdown",
   "metadata": {},
   "source": [
    "<!-- ---\n",
    "reviewed_on: \"2024-12-16\"\n",
    "--- -->\n",
    "\n",
    "# NumPy\n",
    "\n",
    "NumPy (Numerical Python) is an open source Python library that is widely used in science and engineering. The NumPy library contains multidimensional array data structures, such as the homogeneous, N-dimensional `ndarray`, and a large library of functions that operate efficiently on these data structures."
   ]
  },
  {
   "cell_type": "markdown",
   "metadata": {},
   "source": [
    "## Installation\n",
    "\n",
    "### Using `pip`\n",
    "\n",
    "```BASH\n",
    "pip install numpy\n",
    "```\n",
    "\n",
    "### Using Anaconda\n",
    "\n",
    "```BASH\n",
    "conda install numpy\n",
    "```\n",
    "\n",
    "> In the Anaconda prompt."
   ]
  },
  {
   "cell_type": "markdown",
   "metadata": {},
   "source": [
    "## Usage example"
   ]
  },
  {
   "cell_type": "code",
   "execution_count": 1,
   "metadata": {},
   "outputs": [],
   "source": [
    "import numpy as np"
   ]
  },
  {
   "cell_type": "markdown",
   "metadata": {},
   "source": [
    "### Array creation"
   ]
  },
  {
   "cell_type": "code",
   "execution_count": 2,
   "metadata": {},
   "outputs": [
    {
     "name": "stdout",
     "output_type": "stream",
     "text": [
      "(2, 3)\n",
      "1 2 4\n"
     ]
    }
   ],
   "source": [
    "python_array = [[1, 2, 3],[4, 5, 6]]\n",
    "np_array = np.array(python_array)\n",
    "print(np_array.shape)\n",
    "print(np_array[0, 0], np_array[0, 1], np_array[1, 0])"
   ]
  },
  {
   "cell_type": "code",
   "execution_count": 3,
   "metadata": {},
   "outputs": [
    {
     "name": "stdout",
     "output_type": "stream",
     "text": [
      "[[0. 0.]\n",
      " [0. 0.]]\n",
      "[[1. 1.]\n",
      " [1. 1.]]\n",
      "[[7 7]\n",
      " [7 7]]\n",
      "[[1. 0. 0. 0. 0.]\n",
      " [0. 1. 0. 0. 0.]\n",
      " [0. 0. 1. 0. 0.]\n",
      " [0. 0. 0. 1. 0.]\n",
      " [0. 0. 0. 0. 1.]]\n",
      "[[1. 0. 0. 0. 0.]\n",
      " [0. 1. 0. 0. 0.]\n",
      " [0. 0. 1. 0. 0.]\n",
      " [0. 0. 0. 1. 0.]\n",
      " [0. 0. 0. 0. 1.]]\n",
      "[[0.18474369 0.39483236 0.31454896]\n",
      " [0.95088214 0.87632849 0.87706632]\n",
      " [0.00825671 0.04098077 0.51259238]]\n"
     ]
    }
   ],
   "source": [
    "np_array = np.zeros((2, 2))\n",
    "print(np_array)\n",
    "\n",
    "np_array = np.ones((2, 2))\n",
    "print(np_array)\n",
    "\n",
    "np_array = np.full((2, 2), 7)\n",
    "print(np_array)\n",
    "\n",
    "np_array = np.eye(5)\n",
    "print(np_array)\n",
    "\n",
    "np_array = np.random.random((3, 3))\n",
    "print(np_array)"
   ]
  },
  {
   "cell_type": "code",
   "execution_count": 2,
   "metadata": {},
   "outputs": [
    {
     "name": "stdout",
     "output_type": "stream",
     "text": [
      "[ 0.          0.71428571  1.42857143  2.14285714  2.85714286  3.57142857\n",
      "  4.28571429  5.          5.71428571  6.42857143  7.14285714  7.85714286\n",
      "  8.57142857  9.28571429 10.        ] \n",
      " [1.00000000e+00 5.17947468e+00 2.68269580e+01 1.38949549e+02\n",
      " 7.19685673e+02 3.72759372e+03 1.93069773e+04 1.00000000e+05\n",
      " 5.17947468e+05 2.68269580e+06 1.38949549e+07 7.19685673e+07\n",
      " 3.72759372e+08 1.93069773e+09 1.00000000e+10]\n"
     ]
    }
   ],
   "source": [
    "n = 15\n",
    "\n",
    "lin_array = np.linspace(0, 10, n)\n",
    "log_array = np.logspace(0, 10, n)\n",
    "print(lin_array, '\\n', log_array)"
   ]
  },
  {
   "cell_type": "markdown",
   "metadata": {},
   "source": [
    "#### Comparation"
   ]
  },
  {
   "cell_type": "code",
   "execution_count": 2,
   "metadata": {},
   "outputs": [],
   "source": [
    "import time"
   ]
  },
  {
   "cell_type": "code",
   "execution_count": 11,
   "metadata": {},
   "outputs": [],
   "source": [
    "size = pow(10, 8)"
   ]
  },
  {
   "cell_type": "markdown",
   "metadata": {},
   "source": [
    "##### Ones"
   ]
  },
  {
   "cell_type": "code",
   "execution_count": 12,
   "metadata": {},
   "outputs": [
    {
     "name": "stdout",
     "output_type": "stream",
     "text": [
      "6.795980453491211\n"
     ]
    }
   ],
   "source": [
    "start = time.time()\n",
    "python_array = [0 for _ in range(size)]\n",
    "stop = time.time()\n",
    "\n",
    "print(stop - start)"
   ]
  },
  {
   "cell_type": "code",
   "execution_count": 15,
   "metadata": {},
   "outputs": [
    {
     "name": "stdout",
     "output_type": "stream",
     "text": [
      "0.025355815887451172\n"
     ]
    }
   ],
   "source": [
    "start = time.time()\n",
    "np_array = np.zeros(size)\n",
    "stop = time.time()\n",
    "\n",
    "print(stop - start)"
   ]
  },
  {
   "cell_type": "markdown",
   "metadata": {},
   "source": [
    "##### Range"
   ]
  },
  {
   "cell_type": "code",
   "execution_count": 16,
   "metadata": {},
   "outputs": [
    {
     "name": "stdout",
     "output_type": "stream",
     "text": [
      "2.281742572784424\n"
     ]
    }
   ],
   "source": [
    "start = time.time()\n",
    "python_array = list(range(size))\n",
    "stop = time.time()\n",
    "\n",
    "print(stop - start)"
   ]
  },
  {
   "cell_type": "code",
   "execution_count": 19,
   "metadata": {},
   "outputs": [
    {
     "name": "stdout",
     "output_type": "stream",
     "text": [
      "0.13424181938171387\n"
     ]
    }
   ],
   "source": [
    "start = time.time()\n",
    "np_array = np.arange(size)\n",
    "stop = time.time()\n",
    "\n",
    "print(stop - start)"
   ]
  },
  {
   "cell_type": "markdown",
   "metadata": {},
   "source": [
    "### Array access"
   ]
  },
  {
   "cell_type": "code",
   "execution_count": 30,
   "metadata": {},
   "outputs": [
    {
     "name": "stdout",
     "output_type": "stream",
     "text": [
      "[94 44 96 14 63 94 46  9 41 93]\n",
      "Fifth element 63\n",
      "Before the fifth element (excluding it) [94 44 96 14]\n",
      "After the fifth element (including it) [63 94 46  9 41 93]\n",
      "From the third element (including it) until the eight (excluding it) [96 14 63 94 46]\n",
      "Last element 93\n",
      "Odd position elements [44 14 94  9 93]\n"
     ]
    }
   ],
   "source": [
    "np_array = np.random.randint(0, 100, 10)\n",
    "\n",
    "print(np_array)\n",
    "print(\"Fifth element\", np_array[4])\n",
    "print(\"Before the fifth element (excluding it)\", np_array[:4])\n",
    "print(\"After the fifth element (including it)\", np_array[4:])\n",
    "print(\"From the third element (including it) until the eight (excluding it)\", np_array[2:7])\n",
    "print(\"Last element\", np_array[-1])\n",
    "print(\"Odd position elements\", np_array[1::2])\n",
    "print(\"Reversed array\". np_array[::-1])"
   ]
  },
  {
   "cell_type": "markdown",
   "metadata": {},
   "source": [
    "> As it can be see, it is the same notation as Python."
   ]
  },
  {
   "cell_type": "markdown",
   "metadata": {},
   "source": [
    "---"
   ]
  },
  {
   "cell_type": "code",
   "execution_count": 4,
   "metadata": {},
   "outputs": [
    {
     "name": "stdout",
     "output_type": "stream",
     "text": [
      "[[2 3]\n",
      " [6 7]]\n",
      "[[ 1 15  3  4]\n",
      " [ 5  6  7  8]\n",
      " [ 9 10 11 12]]\n"
     ]
    }
   ],
   "source": [
    "np_array = np.array([\n",
    "\t\t\t\t\t\t[1, 2, 3, 4],\n",
    "\t\t\t\t\t\t[5, 6, 7, 8],\n",
    "\t\t\t\t\t\t[9, 10, 11, 12]\n",
    "\t\t\t\t\t])\n",
    "\n",
    "a = np_array[:2, 1:3] # [rows, colums]\n",
    "print(a)\n",
    "a[0, 0] = 15 # Modifying the slice is the same as modifying the original\n",
    "print(np_array)"
   ]
  },
  {
   "cell_type": "code",
   "execution_count": 5,
   "metadata": {},
   "outputs": [
    {
     "name": "stdout",
     "output_type": "stream",
     "text": [
      "[5 6 7 8] (4,)\n",
      "[[5 6 7 8]] (1, 4)\n",
      "[[5 6 7 8]] (1, 4)\n"
     ]
    }
   ],
   "source": [
    "np_array = np.array([\n",
    "\t\t\t\t\t\t[1, 2, 3, 4],\n",
    "\t\t\t\t\t\t[5, 6, 7, 8],\n",
    "\t\t\t\t\t\t[9, 10, 11, 12]\n",
    "\t\t\t\t\t])\n",
    "\n",
    "row_1 = np_array[1, :]\n",
    "print(row_1, row_1.shape)\n",
    "\n",
    "row_1 = np_array[1:2, :]\n",
    "print(row_1, row_1.shape)\n",
    "\n",
    "row_1 = np_array[[1], :]\n",
    "print(row_1, row_1.shape)"
   ]
  },
  {
   "cell_type": "code",
   "execution_count": 8,
   "metadata": {},
   "outputs": [
    {
     "name": "stdout",
     "output_type": "stream",
     "text": [
      "[[False False]\n",
      " [ True  True]\n",
      " [ True  True]]\n",
      "[3 4 5 6]\n"
     ]
    }
   ],
   "source": [
    "np_array = np.array([\n",
    "\t\t\t\t\t\t[1, 2],\n",
    "\t\t\t\t\t\t[3, 4],\n",
    "\t\t\t\t\t\t[5, 6]\n",
    "\t\t\t\t\t])\n",
    "\n",
    "bool_arary = np_array > 2\n",
    "print(bool_arary)\n",
    "\n",
    "true_elements = np_array[bool_arary]\n",
    "print(true_elements)"
   ]
  },
  {
   "cell_type": "code",
   "execution_count": 4,
   "metadata": {},
   "outputs": [],
   "source": [
    "x = np.array([\n",
    "\t\t\t\t[1, 2],\n",
    "\t\t\t\t[3, 4]\n",
    "\t\t\t], dtype=np.float64)\n",
    "\n",
    "y = np.array([\n",
    "\t\t\t\t[4, 5],\n",
    "\t\t\t\t[6, 7]\n",
    "\t\t\t], dtype=np.float64)"
   ]
  },
  {
   "cell_type": "code",
   "execution_count": 5,
   "metadata": {},
   "outputs": [
    {
     "name": "stdout",
     "output_type": "stream",
     "text": [
      "[[ 5.  7.]\n",
      " [ 9. 11.]] \n",
      " [[ 5.  7.]\n",
      " [ 9. 11.]]\n"
     ]
    }
   ],
   "source": [
    "print(x + y, '\\n',np.add(x, y))"
   ]
  },
  {
   "cell_type": "code",
   "execution_count": 10,
   "metadata": {},
   "outputs": [
    {
     "name": "stdout",
     "output_type": "stream",
     "text": [
      "[[-3. -3.]\n",
      " [-3. -3.]] [[-3. -3.]\n",
      " [-3. -3.]]\n"
     ]
    }
   ],
   "source": [
    "print(x - y, '\\n', np.subtract(x, y))"
   ]
  },
  {
   "cell_type": "code",
   "execution_count": null,
   "metadata": {},
   "outputs": [],
   "source": [
    "print(x / y, '\\n', np.divide(x, y))"
   ]
  },
  {
   "cell_type": "code",
   "execution_count": null,
   "metadata": {},
   "outputs": [],
   "source": [
    "print(np.sqrt(x))"
   ]
  },
  {
   "cell_type": "markdown",
   "metadata": {},
   "source": [
    "### Reshaping a matrix"
   ]
  },
  {
   "cell_type": "code",
   "execution_count": 6,
   "metadata": {},
   "outputs": [
    {
     "name": "stdout",
     "output_type": "stream",
     "text": [
      "[[30 28 21 36 37]\n",
      " [43 61 66 81 80]\n",
      " [46 61 79 46  1]\n",
      " [ 6 66 93 76 30]\n",
      " [ 0 23 70 23 73]\n",
      " [56  9 39 32 28]] \n",
      " [[30 28 21 36 37 43]\n",
      " [61 66 81 80 46 61]\n",
      " [79 46  1  6 66 93]\n",
      " [76 30  0 23 70 23]\n",
      " [73 56  9 39 32 28]]\n",
      "[[30 28 21 36 37]\n",
      " [43 61 66 81 80]\n",
      " [46 61 79 46  1]\n",
      " [ 6 66 93 76 30]\n",
      " [ 0 23 70 23 73]\n",
      " [56  9 39 32 28]] \n",
      " [[30 28 21 36 37 43 61 66 81 80]\n",
      " [46 61 79 46  1  6 66 93 76 30]\n",
      " [ 0 23 70 23 73 56  9 39 32 28]]\n",
      "[[30 28 21 36 37]\n",
      " [43 61 66 81 80]\n",
      " [46 61 79 46  1]\n",
      " [ 6 66 93 76 30]\n",
      " [ 0 23 70 23 73]\n",
      " [56  9 39 32 28]] \n",
      " [[30 28]\n",
      " [21 36]\n",
      " [37 43]\n",
      " [61 66]\n",
      " [81 80]\n",
      " [46 61]\n",
      " [79 46]\n",
      " [ 1  6]\n",
      " [66 93]\n",
      " [76 30]\n",
      " [ 0 23]\n",
      " [70 23]\n",
      " [73 56]\n",
      " [ 9 39]\n",
      " [32 28]]\n"
     ]
    }
   ],
   "source": [
    "np_array = np.random.randint(0, 100, size=(6, 5))\n",
    "\n",
    "new_array = np_array.reshape(5, 6)\n",
    "print(np_array, '\\n', new_array)\n",
    "\n",
    "new_array = np_array.reshape(3, 10)\n",
    "print(np_array, '\\n', new_array)\n",
    "\n",
    "new_array = np_array.reshape(15, -1)\n",
    "print(np_array, '\\n', new_array)"
   ]
  },
  {
   "cell_type": "markdown",
   "metadata": {},
   "source": [
    "### Dot product\n",
    "\n",
    "Is an algebraic operation that takes two equal-length sequences of numbers (usually coordinate vectors), and returns a single number.\n",
    "\n",
    "$$\n",
    "a = [a_1,a_2,\\dots,a_n] \\quad b = [b_1,b_2,\\dots,b_n] \\\\[10 pt]\n",
    "\n",
    "a \\cdot b = \\sum_{ i = 1 }^n { a_i * b_i }\n",
    "$$"
   ]
  },
  {
   "cell_type": "code",
   "execution_count": 11,
   "metadata": {},
   "outputs": [
    {
     "name": "stdout",
     "output_type": "stream",
     "text": [
      "219\n"
     ]
    }
   ],
   "source": [
    "v = np.array([9, 10])\n",
    "w = np.array([11, 12])\n",
    "\n",
    "print(v.dot(w), np.dot(v, w))"
   ]
  },
  {
   "cell_type": "markdown",
   "metadata": {},
   "source": [
    "When this is applied to matrices, it returns the matrix multiplication."
   ]
  },
  {
   "cell_type": "code",
   "execution_count": 13,
   "metadata": {},
   "outputs": [
    {
     "name": "stdout",
     "output_type": "stream",
     "text": [
      "[[16. 19.]\n",
      " [36. 43.]] [[16. 19.]\n",
      " [36. 43.]]\n"
     ]
    }
   ],
   "source": [
    "print(np.dot(x, y), x @ y)"
   ]
  },
  {
   "cell_type": "markdown",
   "metadata": {},
   "source": [
    "---"
   ]
  },
  {
   "cell_type": "markdown",
   "metadata": {},
   "source": [
    "### Transpose\n",
    "\n",
    "In linear algebra, the transpose of a matrix is an operator which flips a matrix over its diagonal; that is, it switches the row and column indices of the matrix $A$ by producing another matrix, often denoted by $A^T$. "
   ]
  },
  {
   "cell_type": "code",
   "execution_count": 14,
   "metadata": {},
   "outputs": [
    {
     "name": "stdout",
     "output_type": "stream",
     "text": [
      "[[1. 2.]\n",
      " [3. 4.]] [[1. 3.]\n",
      " [2. 4.]]\n"
     ]
    }
   ],
   "source": [
    "print(x, x.T)"
   ]
  },
  {
   "cell_type": "markdown",
   "metadata": {},
   "source": [
    "### Solving a equation system problem\n",
    "\n",
    "$$\n",
    "\\begin{align*}\n",
    "& 6 x_1 & - & 3 x_2 & + & x_3  & = & 11 \\\\\n",
    "& x_1   & - & 7 x_2 & + & x_3   & = & 10 \\\\\n",
    "& 2 x_1 & + & x_2   & - & 8 x_3 & = & -15 \\\\\n",
    "\\end{align*}\n",
    "$$"
   ]
  },
  {
   "cell_type": "code",
   "execution_count": 10,
   "metadata": {},
   "outputs": [],
   "source": [
    "A = np.array([\n",
    "\t\t\t\t[6, -3, 1],\n",
    "\t\t\t\t[1, -7, 1],\n",
    "\t\t\t\t[2, 1, -8]\n",
    "\t\t\t])\n",
    "\n",
    "results = np.array([11, 10, -15])\n",
    "\n",
    "x = results.reshape(3, 1)"
   ]
  },
  {
   "cell_type": "markdown",
   "metadata": {},
   "source": [
    "#### Using the inverse matrix\n",
    "\n",
    "$$\n",
    "A x = b \\\\[10 pt]\n",
    "\n",
    "A^{ -1 } A x = A^{ -1 } b \\quad I x = A^{ -1 } b \\quad x = A^{ -1 } b \n",
    "$$"
   ]
  },
  {
   "cell_type": "code",
   "execution_count": 11,
   "metadata": {},
   "outputs": [
    {
     "name": "stdout",
     "output_type": "stream",
     "text": [
      "[[ 1.]\n",
      " [-1.]\n",
      " [ 2.]]\n"
     ]
    }
   ],
   "source": [
    "inversed_A = np.linalg.inv(A)\n",
    "solution = np.dot(inversed_A, x)\n",
    "print(solution)"
   ]
  },
  {
   "cell_type": "markdown",
   "metadata": {},
   "source": [
    "#### Using a NumPy built-in method"
   ]
  },
  {
   "cell_type": "code",
   "execution_count": 10,
   "metadata": {},
   "outputs": [
    {
     "name": "stdout",
     "output_type": "stream",
     "text": [
      "[[ 1.]\n",
      " [-1.]\n",
      " [ 2.]]\n"
     ]
    }
   ],
   "source": [
    "solution = np.linalg.solve(A, x)\n",
    "print(solution)"
   ]
  }
 ],
 "metadata": {
  "kernelspec": {
   "display_name": "base",
   "language": "python",
   "name": "python3"
  },
  "language_info": {
   "codemirror_mode": {
    "name": "ipython",
    "version": 3
   },
   "file_extension": ".py",
   "mimetype": "text/x-python",
   "name": "python",
   "nbconvert_exporter": "python",
   "pygments_lexer": "ipython3",
   "version": "3.12.3"
  }
 },
 "nbformat": 4,
 "nbformat_minor": 2
}
