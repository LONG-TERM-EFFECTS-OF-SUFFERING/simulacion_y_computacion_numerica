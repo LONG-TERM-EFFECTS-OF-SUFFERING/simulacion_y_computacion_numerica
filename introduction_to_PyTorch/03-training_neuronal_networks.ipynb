{
 "cells": [
  {
   "cell_type": "markdown",
   "metadata": {},
   "source": [
    "<!-- ---\n",
    "reviewed_on: \"2024-10-30\"\n",
    "--- -->\n",
    "\n",
    "# Training neural networks\n",
    "\n",
    "To know how poorly the network is predicting the real outputs. For this we calculate a **loss function** (also called the cost), a measure of our prediction error. For example, the mean squared loss is often used in regression and binary classification problems\n",
    "\n",
    "$$\n",
    "\\ell = \\frac{ 1 }{ 2 n } \\sum_i^n { \\left (y_i - \\hat{ y }_i \\right )^2 }\n",
    "$$\n",
    "\n",
    "where $n$ is the number of training examples, $y_i$ are the true labels, and $\\hat{ y }_i$ are the predicted labels.\n",
    "\n",
    "By minimizing this loss with respect to the network parameters, we can find configurations where the loss is at a minimum and the network is able to predict the correct labels with high accuracy. We find this minimum using a process called **gradient descent**. The gradient is the slope of the loss function and points in the direction of fastest change. To get to the minimum in the least amount of time, we then want to follow the gradient (downwards).\n",
    "\n",
    "## Backpropagation\n",
    "\n",
    "Training multilayer networks is done through **backpropagation** which is really just an application of the chain rule from calculus. It is easiest to understand if we convert a two layer network into a graph representation.\n",
    "\n",
    "![Back propagation](./assets/03_01-backpropagation_diagram.png)\n",
    "\n",
    "In the forward pass through the network, our data and operations go from bottom to top here. We pass the input $x$ through a linear transformation $L_1$ with weights $W_1$ and biases $b_1$. The output then goes through the sigmoid operation $S$ and another linear transformation $L_2$. Finally we calculate the loss $\\ell$. We use the loss as a measure of how bad the network's predictions are. The goal then is to adjust the weights and biases to minimize the loss.\n",
    "\n",
    "To train the weights with gradient descent, we propagate the gradient of the loss backwards through the network. Each operation has some gradient between the inputs and outputs. As we send the gradients backwards, we multiply the incoming gradient with the gradient for the operation. Mathematically, this is really just calculating the gradient of the loss with respect to the weights using the chain rule.\n",
    "\n",
    "$$\n",
    "\\frac{ \\partial \\ell }{ \\partial W_1 } = \\frac{ \\partial L_1 }{ \\partial W_1 } \\frac{ \\partial S }{ \\partial L_1 } \\frac{ \\partial L_2 }{ \\partial S } \\frac{ \\partial \\ell }{ \\partial L_2 }\n",
    "$$\n",
    "\n",
    "We update our weights using this gradient with some learning rate $\\alpha$. \n",
    "\n",
    "$$\n",
    "\\large { W^\\prime }_1 = W_1 - \\alpha \\frac{ \\partial \\ell }{ \\partial W_1 }\n",
    "$$"
   ]
  },
  {
   "cell_type": "markdown",
   "metadata": {},
   "source": [
    "## Losses in PyTorch\n",
    "\n",
    "Let's start by seeing how we calculate the loss with PyTorch. Through the `nn` module, PyTorch provides losses such as the cross-entropy loss (`nn.CrossEntropyLoss`). You will usually see the loss assigned to `criterion`. With a softmax output, you want to use cross-entropy as the loss. To actually calculate the loss, you first define the criterion then pass in the output of your network and the correct labels.\n",
    "\n",
    "\n",
    "> This criterion combines `nn.LogSoftmax()` and `nn.NLLLoss()` in one single class.\n",
    ">\n",
    "> The input is expected to contain scores for each class.\n",
    "\n",
    "This means we need to pass in the raw output of our network into the loss, not the output of the softmax function. This raw output is usually called the *logits* or *scores*. We use the logits because softmax gives you probabilities which will often be very close to zero or one but floating-point numbers cannot accurately represent values near zero or one. It is usually best to avoid doing calculations with probabilities, typically we use log-probabilities."
   ]
  },
  {
   "cell_type": "code",
   "execution_count": 63,
   "metadata": {},
   "outputs": [],
   "source": [
    "import helper\n",
    "import matplotlib.pyplot as plt\n",
    "import numpy as np\n",
    "import torch\n",
    "from torch import nn"
   ]
  },
  {
   "cell_type": "code",
   "execution_count": 2,
   "metadata": {},
   "outputs": [],
   "source": [
    "# The MNIST datasets are hosted on yann.lecun.com that has moved under CloudFlare protection\n",
    "# Run this script to enable the datasets download\n",
    "# Reference: https://github.com/pytorch/vision/issues/1938\n",
    "from six.moves import urllib\n",
    "\n",
    "\n",
    "opener = urllib.request.build_opener()\n",
    "opener.addheaders = [(\"User-agent\", \"Mozilla/5.0\")]\n",
    "urllib.request.install_opener(opener)"
   ]
  },
  {
   "cell_type": "code",
   "execution_count": 4,
   "metadata": {},
   "outputs": [],
   "source": [
    "from torchvision import datasets, transforms\n",
    "\n",
    "\n",
    "# Define a transform to normalize the data\n",
    "transform = transforms.Compose([transforms.ToTensor(),\n",
    "\t\t\t\t\t\t\t\ttransforms.Normalize((0.5,), (0.5,)),\n",
    "\t\t\t\t\t\t\t\t])\n",
    "\n",
    "# Download and load the training data\n",
    "trainset = datasets.MNIST(\"~/.pytorch/MNIST_data/\", download=True, train=True, transform=transform)\n",
    "trainloader = torch.utils.data.DataLoader(trainset, batch_size=64, shuffle=True)"
   ]
  },
  {
   "cell_type": "code",
   "execution_count": 5,
   "metadata": {},
   "outputs": [
    {
     "name": "stdout",
     "output_type": "stream",
     "text": [
      "tensor(2.3062, grad_fn=<NllLossBackward0>)\n"
     ]
    }
   ],
   "source": [
    "# Build a feed-forward network\n",
    "model = nn.Sequential(nn.Linear(784, 128),\n",
    "\t\t\t\t\t\tnn.ReLU(),\n",
    "\t\t\t\t\t\tnn.Linear(128, 64),\n",
    "\t\t\t\t\t\tnn.ReLU(),\n",
    "\t\t\t\t\t\tnn.Linear(64, 10))\n",
    "\n",
    "# Define the loss\n",
    "criterion = nn.CrossEntropyLoss()\n",
    "\n",
    "# Get our data\n",
    "dataiter = iter(trainloader)\n",
    "\n",
    "images, labels = next(dataiter)\n",
    "\n",
    "# Flatten images\n",
    "images = images.view(images.shape[0], -1)\n",
    "\n",
    "# Forward pass, get our logits\n",
    "logits = model(images)\n",
    "# Calculate the loss with the logits and the labels\n",
    "loss = criterion(logits, labels)\n",
    "\n",
    "print(loss)"
   ]
  },
  {
   "cell_type": "code",
   "execution_count": 12,
   "metadata": {},
   "outputs": [
    {
     "name": "stdout",
     "output_type": "stream",
     "text": [
      "tensor(2.3051, grad_fn=<NllLossBackward0>)\n"
     ]
    }
   ],
   "source": [
    "model = nn.Sequential(nn.Linear(784, 128),\n",
    "\t\t\t\t\t\tnn.ReLU(),\n",
    "\t\t\t\t\t\tnn.Linear(128, 64),\n",
    "\t\t\t\t\t\tnn.ReLU(),\n",
    "\t\t\t\t\t\tnn.Linear(64, 10),\n",
    "\t\t\t\t\t\tnn.LogSoftmax(dim=1))\n",
    "\n",
    "criterion = nn.NLLLoss()\n",
    "\n",
    "# Get our data\n",
    "dataiter = iter(trainloader)\n",
    "\n",
    "# Flatten images\n",
    "images = images.view(images.shape[0], -1)\n",
    "\n",
    "# Forward pass, get our logits\n",
    "logits = model(images)\n",
    "# Calculate the loss with the logits and the labels\n",
    "loss = criterion(logits, labels)\n",
    "\n",
    "print(loss)"
   ]
  },
  {
   "cell_type": "markdown",
   "metadata": {},
   "source": [
    "## Autograd\n",
    "\n",
    "Torch provides a module, `autograd`, for automatically calculating the gradients of tensors. We can use it to calculate the gradients of all our parameters with respect to the loss. Autograd works by keeping track of operations performed on tensors, then going backwards through those operations, calculating gradients along the way.\n",
    "\n",
    "You can turn on or off gradients altogether with `torch.set_grad_enabled(True|False)`.\n",
    "\n",
    "The gradients are computed with respect to some variable `z` with `z.backward()`. This does a backward pass through the operations that created `z`."
   ]
  },
  {
   "cell_type": "code",
   "execution_count": 123,
   "metadata": {},
   "outputs": [
    {
     "name": "stdout",
     "output_type": "stream",
     "text": [
      "tensor([[-0.6424, -0.4753],\n",
      "        [ 2.4593,  0.5444]], requires_grad=True)\n",
      "x.grad: None\n",
      "tensor([[0.4126, 0.2259],\n",
      "        [6.0483, 0.2964]], grad_fn=<PowBackward0>)\n",
      "tensor(1.7458, grad_fn=<MeanBackward0>)\n",
      "x.grad: tensor([[-0.3212, -0.2376],\n",
      "        [ 1.2297,  0.2722]])\n"
     ]
    }
   ],
   "source": [
    "x = torch.randn(2, 2, requires_grad=True)\n",
    "print(x)\n",
    "print(\"x.grad:\", x.grad)\n",
    "\n",
    "y = x ** 2\n",
    "print(y)\n",
    "\n",
    "z = y.mean()\n",
    "print(z)\n",
    "\n",
    "z.backward()\n",
    "\n",
    "print(\"x.grad:\", x.grad)"
   ]
  },
  {
   "cell_type": "markdown",
   "metadata": {},
   "source": [
    "To calculate the gradients, you need to run the `.backward` method on a Variable, `z` for example. This will calculate the gradient for `z` with respect to `x`.\n",
    "\n",
    "$$\n",
    "\\frac{ \\partial z }{ \\partial x } = \\frac{ \\partial }{ \\partial x } \\left [\\frac{ 1 }{ 4 } \\sum_{ i = 1 }^4 { x_i }^2\\right ] = \\frac{ x_i }{ 2 }\n",
    "$$"
   ]
  },
  {
   "cell_type": "markdown",
   "metadata": {},
   "source": [
    "## Loss and autograd together\n",
    "\n",
    "When we create a network with PyTorch, all of the parameters are initialized with `requires_grad = True`. This means that when we calculate the loss and call `loss.backward()`, the gradients for the parameters are calculated. These gradients are used to update the weights with gradient descent."
   ]
  },
  {
   "cell_type": "code",
   "execution_count": 68,
   "metadata": {},
   "outputs": [],
   "source": [
    "# Build a feed-forward network\n",
    "model = nn.Sequential(nn.Linear(784, 128),\n",
    "\t\t\t\t\t\tnn.ReLU(),\n",
    "\t\t\t\t\t\tnn.Linear(128, 64),\n",
    "\t\t\t\t\t\tnn.ReLU(),\n",
    "\t\t\t\t\t\tnn.Linear(64, 10),\n",
    "\t\t\t\t\t\tnn.LogSoftmax(dim=1))\n",
    "\n",
    "criterion = nn.NLLLoss()\n",
    "dataiter = iter(trainloader)\n",
    "images, labels = next(dataiter)\n",
    "images = images.view(images.shape[0], -1)\n",
    "\n",
    "logits = model(images)\n",
    "loss = criterion(logits, labels)"
   ]
  },
  {
   "cell_type": "code",
   "execution_count": 54,
   "metadata": {},
   "outputs": [
    {
     "name": "stdout",
     "output_type": "stream",
     "text": [
      "Before backward pass: \n",
      " None\n",
      "After backward pass: \n",
      " tensor([[-0.0006, -0.0006, -0.0006,  ..., -0.0006, -0.0006, -0.0006],\n",
      "        [ 0.0002,  0.0002,  0.0002,  ...,  0.0002,  0.0002,  0.0002],\n",
      "        [-0.0060, -0.0060, -0.0060,  ..., -0.0060, -0.0060, -0.0060],\n",
      "        ...,\n",
      "        [-0.0044, -0.0044, -0.0044,  ..., -0.0044, -0.0044, -0.0044],\n",
      "        [ 0.0003,  0.0003,  0.0003,  ...,  0.0003,  0.0003,  0.0003],\n",
      "        [ 0.0017,  0.0017,  0.0017,  ...,  0.0017,  0.0017,  0.0017]])\n"
     ]
    }
   ],
   "source": [
    "print(\"Before backward pass: \\n\", model[0].weight.grad)\n",
    "\n",
    "loss.backward()\n",
    "\n",
    "print(\"After backward pass: \\n\", model[0].weight.grad)"
   ]
  },
  {
   "cell_type": "markdown",
   "metadata": {},
   "source": [
    "## Training the network\n",
    "\n",
    "There is one last piece we need to start training, an optimizer that we will use to update the weights with the gradients. We get these from PyTorch's [`optim` package](https://pytorch.org/docs/stable/optim.html)."
   ]
  },
  {
   "cell_type": "code",
   "execution_count": 55,
   "metadata": {},
   "outputs": [],
   "source": [
    "from torch import optim\n",
    "\n",
    "\n",
    "# Optimizers require the parameters to optimize and a learning rate\n",
    "optimizer = optim.SGD(model.parameters(), lr=0.01)"
   ]
  },
  {
   "cell_type": "markdown",
   "metadata": {},
   "source": [
    "Let's consider just one learning step before looping through all the data. The general process with PyTorch:\n",
    "\n",
    "1. Make a forward pass through the network.\n",
    "\n",
    "2. Use the network output to calculate the loss.\n",
    "\n",
    "3. Perform a backward pass through the network with `loss.backward()` to calculate the gradients.\n",
    "\n",
    "4. Take a step with the optimizer to update the weights."
   ]
  },
  {
   "cell_type": "code",
   "execution_count": 108,
   "metadata": {},
   "outputs": [
    {
     "name": "stdout",
     "output_type": "stream",
     "text": [
      "Initial weights \n",
      " Parameter containing:\n",
      "tensor([[-2.6589e-02,  9.3487e-03,  9.4400e-03,  ...,  2.0870e-02,\n",
      "          2.2927e-02,  6.0602e-03],\n",
      "        [ 3.4312e-02, -1.7450e-02,  1.2777e-02,  ..., -2.1599e-02,\n",
      "         -3.2344e-02,  2.3011e-02],\n",
      "        [ 2.9565e-02,  6.8614e-03, -3.5591e-03,  ...,  2.9123e-02,\n",
      "         -2.1835e-03, -1.7625e-02],\n",
      "        ...,\n",
      "        [-1.2879e-02,  1.3348e-02,  1.1551e-02,  ...,  9.9325e-03,\n",
      "         -1.9238e-02, -2.5205e-02],\n",
      "        [ 7.4140e-03,  6.0217e-03, -5.3141e-03,  ...,  2.7102e-02,\n",
      "         -1.5900e-02,  6.9220e-03],\n",
      "        [-3.4208e-02,  2.3000e-02,  6.9212e-05,  ..., -3.3029e-02,\n",
      "         -2.2439e-02,  2.7434e-03]], requires_grad=True)\n",
      "Gradient \n",
      " tensor([[ 0.0377,  0.0377,  0.0377,  ...,  0.0377,  0.0377,  0.0377],\n",
      "        [ 0.0004,  0.0004,  0.0004,  ...,  0.0004,  0.0004,  0.0004],\n",
      "        [ 0.0609,  0.0609,  0.0609,  ...,  0.0609,  0.0609,  0.0609],\n",
      "        ...,\n",
      "        [ 0.0289,  0.0289,  0.0289,  ...,  0.0289,  0.0289,  0.0289],\n",
      "        [-0.0291, -0.0291, -0.0291,  ..., -0.0291, -0.0291, -0.0291],\n",
      "        [ 0.0542,  0.0542,  0.0542,  ...,  0.0542,  0.0542,  0.0542]])\n"
     ]
    }
   ],
   "source": [
    "print(\"Initial weights \\n\", model[0].weight)\n",
    "\n",
    "dataiter = iter(trainloader)\n",
    "images, labels = next(dataiter)\n",
    "images = images.view(images.shape[0], -1)\n",
    "\n",
    "# Clear the gradients, do this because gradients are accumulated\n",
    "optimizer.zero_grad()\n",
    "\n",
    "# Forward pass, then backward pass, then update weights\n",
    "output = model(images)\n",
    "loss = criterion(output, labels)\n",
    "loss.backward()\n",
    "print(\"Gradient \\n\", model[0].weight.grad)"
   ]
  },
  {
   "cell_type": "code",
   "execution_count": 60,
   "metadata": {},
   "outputs": [
    {
     "name": "stdout",
     "output_type": "stream",
     "text": [
      "Updated weights \n",
      " Parameter containing:\n",
      "tensor([[-0.0137,  0.0237,  0.0264,  ..., -0.0094, -0.0083,  0.0136],\n",
      "        [-0.0085, -0.0019,  0.0123,  ..., -0.0308,  0.0348, -0.0145],\n",
      "        [ 0.0063, -0.0303,  0.0101,  ..., -0.0351, -0.0303, -0.0285],\n",
      "        ...,\n",
      "        [-0.0230,  0.0035, -0.0002,  ...,  0.0322,  0.0297,  0.0112],\n",
      "        [-0.0291,  0.0087, -0.0250,  ..., -0.0311, -0.0065, -0.0109],\n",
      "        [ 0.0171,  0.0346,  0.0129,  ..., -0.0331, -0.0007,  0.0284]],\n",
      "       requires_grad=True)\n"
     ]
    }
   ],
   "source": [
    "# Take an update step and view the new weights\n",
    "optimizer.step()\n",
    "print(\"Updated weights \\n\", model[0].weight)"
   ]
  },
  {
   "cell_type": "markdown",
   "metadata": {},
   "source": [
    "### Training for real\n",
    "\n",
    "Oone pass through the entire dataset is called an *epoch*. So here we are going to loop through `trainloader` to get our training batches. For each batch, we will be doing a training pass where we calculate the loss, do a backwards pass, and update the weights."
   ]
  },
  {
   "cell_type": "code",
   "execution_count": 62,
   "metadata": {},
   "outputs": [
    {
     "name": "stdout",
     "output_type": "stream",
     "text": [
      "Training loss: 1.9057511818180206\n",
      "Training loss: 0.8398904133834311\n",
      "Training loss: 0.5183880365034664\n",
      "Training loss: 0.4258620912935942\n",
      "Training loss: 0.38182246470565734\n"
     ]
    }
   ],
   "source": [
    "model = nn.Sequential(nn.Linear(784, 128),\n",
    "\t\t\t\t\t\tnn.ReLU(),\n",
    "\t\t\t\t\t\tnn.Linear(128, 64),\n",
    "\t\t\t\t\t\tnn.ReLU(),\n",
    "\t\t\t\t\t\tnn.Linear(64, 10),\n",
    "\t\t\t\t\t\tnn.LogSoftmax(dim=1))\n",
    "\n",
    "criterion = nn.NLLLoss()\n",
    "optimizer = optim.SGD(model.parameters(), lr=0.003)\n",
    "\n",
    "epochs = 5\n",
    "for e in range(epochs):\n",
    "\trunning_loss = 0\n",
    "\tfor images, labels in trainloader:\n",
    "\t\timages = images.view(images.shape[0], -1)\n",
    "\t\toptimizer.zero_grad()\n",
    "\n",
    "\t\tlogits = model(images)\n",
    "\t\tloss = criterion(logits, labels)\n",
    "\n",
    "\t\tloss.backward()\n",
    "\t\toptimizer.step()\n",
    "\n",
    "\t\trunning_loss += loss.item()\n",
    "\telse:\n",
    "\t\tprint(f\"Training loss: {running_loss / len(trainloader)}\")"
   ]
  },
  {
   "cell_type": "code",
   "execution_count": 67,
   "metadata": {},
   "outputs": [
    {
     "name": "stdout",
     "output_type": "stream",
     "text": [
      "tensor([[-11.6686,  -5.6318,  -3.4819,  -6.9932,  -7.3148,  -6.7763,  -0.0528,\n",
      "         -12.3291,  -4.2467,  -9.4287]])\n",
      "tensor([[8.5588e-06, 3.5821e-03, 3.0748e-02, 9.1812e-04, 6.6559e-04, 1.1405e-03,\n",
      "         9.4854e-01, 4.4213e-06, 1.4311e-02, 8.0382e-05]])\n"
     ]
    },
    {
     "data": {
      "image/png": "[encoded data removed]",
      "text/plain": [
       "<Figure size 600x900 with 2 Axes>"
      ]
     },
     "metadata": {},
     "output_type": "display_data"
    }
   ],
   "source": [
    "dataiter = iter(trainloader)\n",
    "images, labels = next(dataiter)\n",
    "\n",
    "img = images[0].view(1, 784)\n",
    "# Turn off gradients to speed up this part\n",
    "with torch.no_grad():\n",
    "\tlogps = model(img)\n",
    "\n",
    "# Output of the network are log-probabilities, need to take exponential for probabilities\n",
    "ps = torch.exp(logps)\n",
    "helper.view_classify(img.view(1, 28, 28), ps)\n",
    "plt.show()"
   ]
  }
 ],
 "metadata": {
  "kernelspec": {
   "display_name": "base",
   "language": "python",
   "name": "python3"
  },
  "language_info": {
   "codemirror_mode": {
    "name": "ipython",
    "version": 3
   },
   "file_extension": ".py",
   "mimetype": "text/x-python",
   "name": "python",
   "nbconvert_exporter": "python",
   "pygments_lexer": "ipython3",
   "version": "3.12.3"
  }
 },
 "nbformat": 4,
 "nbformat_minor": 2
}
