{
 "cells": [
  {
   "cell_type": "markdown",
   "metadata": {},
   "source": [
    "<!-- ---\n",
    "reviewed_on: \"2024-12-16\"\n",
    "--- -->\n",
    "\n",
    "# Finite differences"
   ]
  },
  {
   "cell_type": "code",
   "execution_count": 51,
   "metadata": {},
   "outputs": [],
   "source": [
    "x = [3, 4, 5, 7, 8, 9, 11, 12]\n",
    "y = [1.6, 3.6, 4.4, 3.4, 2.2, 2.8, 3.8, 4.6]"
   ]
  },
  {
   "cell_type": "code",
   "execution_count": 52,
   "metadata": {},
   "outputs": [],
   "source": [
    "def calculate_finite_differences_table(x, y):\n",
    "\tnumber_points = len(x)\n",
    "\tnablas_number = number_points - 1\n",
    "\tnablas = [[] for _ in range(nablas_number)]\n",
    "\n",
    "\tfor nabla in range(1, nablas_number + 1):\n",
    "\t\tfor element in range(1, (number_points - nabla) + 1): # [1,number_points - nabla]\n",
    "\t\t\tif nabla == 1:\n",
    "\t\t\t\tactual_y = y[element - 1]\n",
    "\t\t\t\tnext_y = y[element]\n",
    "\n",
    "\t\t\t\tactual_x = x[element - 1]\n",
    "\t\t\t\tnext_x = x[element]\n",
    "\n",
    "\t\t\t\tnablas[0].append((next_y - actual_y) / (next_x - actual_x))\n",
    "\t\t\telse:\n",
    "\t\t\t\tactual_nabla_index = nabla - 2\n",
    "\n",
    "\t\t\t\tactual_delta = nablas[actual_nabla_index][element - 1]\n",
    "\t\t\t\tnext_delta = nablas[actual_nabla_index][element]\n",
    "\n",
    "\t\t\t\tactual_x = x[element - 1]\n",
    "\t\t\t\tnext_x = x[(element + nabla) - 1]\n",
    "\n",
    "\t\t\t\tnablas[actual_nabla_index + 1].append((next_delta - actual_delta) / (next_x - actual_x))\n",
    "\n",
    "\treturn nablas\n"
   ]
  },
  {
   "cell_type": "code",
   "execution_count": 53,
   "metadata": {},
   "outputs": [],
   "source": [
    "def get_coefficients_polynomial(x, y):\n",
    "\tnablas = calculate_finite_differences_table(x, y)\n",
    "\tcoefficients = [y[0]]\n",
    "\n",
    "\tfor nabla in nablas:\n",
    "\t\tcoefficients.append(nabla[0])\n",
    "\n",
    "\treturn coefficients"
   ]
  },
  {
   "cell_type": "code",
   "execution_count": 54,
   "metadata": {},
   "outputs": [],
   "source": [
    "def get_polynomial(x, y):\n",
    "\tcoefficients = get_coefficients_polynomial(x, y)\n",
    "\n",
    "\tdef polynomial(t):\n",
    "\t\tresult = 0\n",
    "\t\tfor i, coefficient in enumerate(coefficients):\n",
    "\t\t\tterm = coefficient\n",
    "\t\t\tfor j in range(i):\n",
    "\t\t\t\tterm *= (t - x[j])\n",
    "\t\t\tresult += term\n",
    "\t\treturn result\n",
    "\n",
    "\treturn polynomial"
   ]
  },
  {
   "cell_type": "code",
   "execution_count": 55,
   "metadata": {},
   "outputs": [
    {
     "data": {
      "text/plain": [
       "[[2.0,\n",
       "  0.8000000000000003,\n",
       "  -0.5000000000000002,\n",
       "  -1.1999999999999997,\n",
       "  0.5999999999999996,\n",
       "  0.5,\n",
       "  0.7999999999999998],\n",
       " [-0.5999999999999999,\n",
       "  -0.4333333333333335,\n",
       "  -0.23333333333333317,\n",
       "  0.8999999999999997,\n",
       "  -0.033333333333333215,\n",
       "  0.09999999999999994],\n",
       " [0.04166666666666659,\n",
       "  0.050000000000000086,\n",
       "  0.2833333333333332,\n",
       "  -0.23333333333333323,\n",
       "  0.033333333333333284],\n",
       " [0.0016666666666666995,\n",
       "  0.04666666666666662,\n",
       "  -0.08611111111111107,\n",
       "  0.0533333333333333],\n",
       " [0.007499999999999987, -0.018968253968253957, 0.01992063492063491],\n",
       " [-0.003308531746031743, 0.004861111111111109],\n",
       " [0.0009077380952380946]]"
      ]
     },
     "execution_count": 55,
     "metadata": {},
     "output_type": "execute_result"
    }
   ],
   "source": [
    "calculate_finite_differences_table(x, y)"
   ]
  },
  {
   "cell_type": "code",
   "execution_count": 56,
   "metadata": {},
   "outputs": [
    {
     "data": {
      "text/plain": [
       "4.600000000000001"
      ]
     },
     "execution_count": 56,
     "metadata": {},
     "output_type": "execute_result"
    }
   ],
   "source": [
    "polynomial = get_polynomial(x, y)\n",
    "polynomial(12)"
   ]
  }
 ],
 "metadata": {
  "kernelspec": {
   "display_name": "base",
   "language": "python",
   "name": "python3"
  },
  "language_info": {
   "codemirror_mode": {
    "name": "ipython",
    "version": 3
   },
   "file_extension": ".py",
   "mimetype": "text/x-python",
   "name": "python",
   "nbconvert_exporter": "python",
   "pygments_lexer": "ipython3",
   "version": "3.12.3"
  }
 },
 "nbformat": 4,
 "nbformat_minor": 2
}
