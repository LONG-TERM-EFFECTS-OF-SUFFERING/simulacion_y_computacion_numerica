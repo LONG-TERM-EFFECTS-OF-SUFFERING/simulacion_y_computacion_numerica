{
 "cells": [
  {
   "cell_type": "markdown",
   "metadata": {},
   "source": [
    "<!-- ---\n",
    "reviewed_on: \"2024-12-16\"\n",
    "--- -->\n",
    "\n",
    "# Last presentation tests"
   ]
  },
  {
   "cell_type": "markdown",
   "metadata": {},
   "source": [
    "## Import necessary packages"
   ]
  },
  {
   "cell_type": "code",
   "execution_count": 23,
   "metadata": {},
   "outputs": [],
   "source": [
    "import matplotlib.pyplot as plt\n",
    "import numpy as np\n",
    "import torch\n",
    "import torch.nn.functional as F\n",
    "from torch import nn, optim"
   ]
  },
  {
   "cell_type": "markdown",
   "metadata": {},
   "source": [
    "## Loading the dataset"
   ]
  },
  {
   "cell_type": "code",
   "execution_count": 24,
   "metadata": {},
   "outputs": [
    {
     "name": "stdout",
     "output_type": "stream",
     "text": [
      "Files already downloaded and verified\n",
      "Files already downloaded and verified\n"
     ]
    }
   ],
   "source": [
    "from torchvision import datasets, transforms\n",
    "\n",
    "\n",
    "transform = transforms.Compose([transforms.ToTensor(),\n",
    "\t\t\t\t\t\t\t\ttransforms.Normalize((0.4919, 0.4827, 0.4472),\n",
    "\t\t\t\t\t\t\t\t\t\t\t\t\t\t(0.2022, 0.1994, 0.2010)),\n",
    "\t\t\t\t\t\t\t\t])\n",
    "\n",
    "trainset = datasets.CIFAR10(\"~/.pytorch/CIFAR-10/\", download=True, train=True, transform=transform)\n",
    "trainloader = torch.utils.data.DataLoader(trainset, batch_size=64, shuffle=True)\n",
    "\n",
    "testset = datasets.CIFAR10(\"~/.pytorch/CIFAR-10/\", download=True, train=False, transform=transform)\n",
    "testloader = torch.utils.data.DataLoader(testset, batch_size=64, shuffle=True)"
   ]
  },
  {
   "cell_type": "markdown",
   "metadata": {},
   "source": [
    "## Defining the network"
   ]
  },
  {
   "cell_type": "code",
   "execution_count": 25,
   "metadata": {},
   "outputs": [],
   "source": [
    "class Network(nn.Module):\n",
    "\tdef __init__(self):\n",
    "\t\tsuper().__init__()\n",
    "\n",
    "\t\tself.fc1 = nn.Linear(3072, 1024)\n",
    "\t\tself.fc2 = nn.Linear(1024, 512)\n",
    "\t\tself.fc3 = nn.Linear(512, 256)\n",
    "\t\tself.fc4 = nn.Linear(256, 10)\n",
    "\n",
    "\t\tself.dropout = nn.Dropout(p=0.2)\n",
    "\n",
    "\tdef forward(self, x):\n",
    "\t\tx = x.view(x.shape[0], -1)\n",
    "\n",
    "\t\tx = self.dropout(F.relu(self.fc1(x)))\n",
    "\t\tx = self.dropout(F.relu(self.fc2(x)))\n",
    "\t\tx = self.dropout(F.relu(self.fc3(x)))\n",
    "\n",
    "\t\tx = F.log_softmax(self.fc4(x), dim=1)\n",
    "\n",
    "\t\treturn x"
   ]
  },
  {
   "cell_type": "markdown",
   "metadata": {},
   "source": [
    "## Training network"
   ]
  },
  {
   "cell_type": "code",
   "execution_count": 26,
   "metadata": {},
   "outputs": [],
   "source": [
    "network = Network()\n",
    "optimizer = optim.Adam(network.parameters(), lr=0.0001)\n",
    "criterion = nn.NLLLoss()"
   ]
  },
  {
   "cell_type": "code",
   "execution_count": 27,
   "metadata": {},
   "outputs": [
    {
     "name": "stdout",
     "output_type": "stream",
     "text": [
      "Epoch: 1/15  Training Loss: 1.725  Test Loss: 1.535  Test Accuracy: 0.458 \n",
      "Epoch: 2/15  Training Loss: 1.512  Test Loss: 1.444  Test Accuracy: 0.496 \n",
      "Epoch: 3/15  Training Loss: 1.416  Test Loss: 1.379  Test Accuracy: 0.514 \n",
      "Epoch: 4/15  Training Loss: 1.342  Test Loss: 1.363  Test Accuracy: 0.519 \n",
      "Epoch: 5/15  Training Loss: 1.282  Test Loss: 1.331  Test Accuracy: 0.534 \n",
      "Epoch: 6/15  Training Loss: 1.228  Test Loss: 1.303  Test Accuracy: 0.540 \n",
      "Epoch: 7/15  Training Loss: 1.172  Test Loss: 1.281  Test Accuracy: 0.550 \n",
      "Epoch: 8/15  Training Loss: 1.128  Test Loss: 1.280  Test Accuracy: 0.556 \n",
      "Epoch: 9/15  Training Loss: 1.082  Test Loss: 1.265  Test Accuracy: 0.562 \n",
      "Epoch: 10/15  Training Loss: 1.040  Test Loss: 1.260  Test Accuracy: 0.564 \n",
      "Epoch: 11/15  Training Loss: 1.000  Test Loss: 1.262  Test Accuracy: 0.562 \n",
      "Epoch: 12/15  Training Loss: 0.958  Test Loss: 1.260  Test Accuracy: 0.563 \n",
      "Epoch: 13/15  Training Loss: 0.921  Test Loss: 1.269  Test Accuracy: 0.568 \n",
      "Epoch: 14/15  Training Loss: 0.887  Test Loss: 1.251  Test Accuracy: 0.572 \n",
      "Epoch: 15/15  Training Loss: 0.851  Test Loss: 1.279  Test Accuracy: 0.569 \n"
     ]
    }
   ],
   "source": [
    "epochs = 15\n",
    "\n",
    "train_losses, test_losses = [], []\n",
    "for e in range(epochs):\n",
    "\trunning_loss = 0\n",
    "\tnetwork.train()\n",
    "\tfor images, labels in trainloader:\n",
    "\t\toptimizer.zero_grad()\n",
    "\n",
    "\t\tlog_ps = network(images)\n",
    "\t\tloss = criterion(log_ps, labels)\n",
    "\t\tloss.backward()\n",
    "\t\toptimizer.step()\n",
    "\n",
    "\t\trunning_loss += loss.item()\n",
    "\telse:\n",
    "\t\ttest_loss = 0\n",
    "\t\taccuracy = 0\n",
    "\n",
    "\t\t# Turn off gradients for validation, saves memory and computations\n",
    "\t\twith torch.no_grad():\n",
    "\t\t\tnetwork.eval()\n",
    "\t\t\tfor images, labels in testloader:\n",
    "\t\t\t\tlog_ps = network(images)\n",
    "\t\t\t\ttest_loss += criterion(log_ps, labels)\n",
    "\n",
    "\t\t\t\tps = torch.exp(log_ps)\n",
    "\t\t\t\ttop_p, top_class = ps.topk(1, dim=1)\n",
    "\t\t\t\tequals = top_class == labels.view(*top_class.shape)\n",
    "\t\t\t\taccuracy += torch.mean(equals.type(torch.FloatTensor))\n",
    "\n",
    "\t\ttrain_losses.append(running_loss / len(trainloader))\n",
    "\t\ttest_losses.append(test_loss / len(testloader))\n",
    "\n",
    "\t\tprint(\"Epoch: {}/{} \".format(e + 1, epochs),\n",
    "\t\t\t\t\"Training Loss: {:.3f} \".format(train_losses[-1]),\n",
    "\t\t\t\t\"Test Loss: {:.3f} \".format(test_losses[-1]),\n",
    "\t\t\t\t\"Test Accuracy: {:.3f} \".format(accuracy / len(testloader)))"
   ]
  },
  {
   "cell_type": "code",
   "execution_count": 29,
   "metadata": {},
   "outputs": [
    {
     "data": {
      "text/plain": [
       "<matplotlib.legend.Legend at 0x21fa42d3440>"
      ]
     },
     "execution_count": 29,
     "metadata": {},
     "output_type": "execute_result"
    },
    {
     "data": {
      "image/png": "[encoded data removed]",
      "text/plain": [
       "<Figure size 640x480 with 1 Axes>"
      ]
     },
     "metadata": {},
     "output_type": "display_data"
    }
   ],
   "source": [
    "plt.plot(train_losses, label=\"Training loss\")\n",
    "plt.plot(test_losses, label=\"Validation loss\")\n",
    "plt.legend(frameon=False)"
   ]
  },
  {
   "cell_type": "markdown",
   "metadata": {},
   "source": [
    "## Saving the networks"
   ]
  },
  {
   "cell_type": "code",
   "execution_count": 30,
   "metadata": {},
   "outputs": [],
   "source": [
    "torch.save(network.state_dict(), \"checkpoint.pth\")"
   ]
  }
 ],
 "metadata": {
  "kernelspec": {
   "display_name": "base",
   "language": "python",
   "name": "python3"
  },
  "language_info": {
   "codemirror_mode": {
    "name": "ipython",
    "version": 3
   },
   "file_extension": ".py",
   "mimetype": "text/x-python",
   "name": "python",
   "nbconvert_exporter": "python",
   "pygments_lexer": "ipython3",
   "version": "3.12.3"
  }
 },
 "nbformat": 4,
 "nbformat_minor": 2
}
