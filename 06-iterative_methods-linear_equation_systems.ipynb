{
 "cells": [
  {
   "cell_type": "markdown",
   "metadata": {},
   "source": [
    "<!-- ---\n",
    "reviewed_on: \"2024-12-16\"\n",
    "--- -->\n",
    "\n",
    "# Iterative methods for solving linear equation systems"
   ]
  },
  {
   "cell_type": "code",
   "execution_count": 2,
   "metadata": {},
   "outputs": [],
   "source": [
    "import numpy as np"
   ]
  },
  {
   "cell_type": "markdown",
   "metadata": {},
   "source": [
    "## Gradient descent"
   ]
  },
  {
   "cell_type": "code",
   "execution_count": 37,
   "metadata": {},
   "outputs": [],
   "source": [
    "def gradient_descent(A, b, x_0, delta, iterations=100):\n",
    "\tx = x_0\n",
    "\tfor _ in range(iterations):\n",
    "\t\tr = b - np.matmul(A, x)\n",
    "\t\tr_t = np.transpose(r)\n",
    "\t\talpha = np.dot(r_t, r) / \\\n",
    "\t\t\t\tnp.dot(r_t, np.matmul(A, r))\n",
    "\t\tx = x + alpha * r\n",
    "\n",
    "\t\tif np.linalg.norm(r) < delta:\n",
    "\t\t\treturn x\n",
    "\n",
    "\telse:\n",
    "\t\treturn x # raise ValueError(\"Gradient descent did not converge\")"
   ]
  },
  {
   "cell_type": "code",
   "execution_count": 38,
   "metadata": {},
   "outputs": [
    {
     "data": {
      "text/plain": [
       "array([4., 4.])"
      ]
     },
     "execution_count": 38,
     "metadata": {},
     "output_type": "execute_result"
    }
   ],
   "source": [
    "A = np.array([\n",
    "\t[3, -2],\n",
    "\t[-2, 4]\n",
    "])\n",
    "\n",
    "b = np.array([\n",
    "\t4,\n",
    "\t8\n",
    "])\n",
    "\n",
    "x_0 = np.array([\n",
    "\t1,\n",
    "\t1\n",
    "])\n",
    "\n",
    "gradient_descent(A, b, x_0, 1e-08, 10000)"
   ]
  },
  {
   "cell_type": "markdown",
   "metadata": {},
   "source": [
    "## Conjugate gradient"
   ]
  },
  {
   "cell_type": "code",
   "execution_count": 17,
   "metadata": {},
   "outputs": [],
   "source": [
    "def conjugate_gradient(A, b, x_0, delta, iterations=100):\n",
    "\tx = x_0\n",
    "\tr = b - np.matmul(A, x)\n",
    "\tr_t = np.transpose(r)\n",
    "\tp = r\n",
    "\tp_t = r_t\n",
    "\talpha = np.dot(r_t, p) / \\\n",
    "\t\t\t\tnp.dot(p_t, np.matmul(A, p))\n",
    "\n",
    "\tfor _ in range(iterations):\n",
    "\t\tx = x + alpha * p\n",
    "\n",
    "\t\tr_previous = r\n",
    "\n",
    "\t\tr = b - np.matmul(A, x)\n",
    "\t\tr_t = np.transpose(r)\n",
    "\n",
    "\t\tp_previous = p\n",
    "\t\tp_previous_t = np.transpose(p)\n",
    "\n",
    "\t\tbetha = np.dot(p_previous_t, np.matmul(A, r_previous)) / \\\n",
    "\t\t\t\tnp.dot(p_previous_t, np.matmul(A, p_previous))\n",
    "\n",
    "\t\tp = r + betha * r_previous\n",
    "\t\tp_t = np.transpose(p)\n",
    "\n",
    "\t\talpha = np.dot(r_t, p) / \\\n",
    "\t\t\t\tnp.dot(p_t, np.matmul(A, p))\n",
    "\n",
    "\t\tif np.linalg.norm(r) < delta:\n",
    "\t\t\treturn x\n",
    "\n",
    "\telse:\n",
    "\t\treturn x # raise ValueError(\"conjugate descent did not converge\")"
   ]
  },
  {
   "cell_type": "code",
   "execution_count": 18,
   "metadata": {},
   "outputs": [
    {
     "data": {
      "text/plain": [
       "array([0.09090909, 0.63636364])"
      ]
     },
     "execution_count": 18,
     "metadata": {},
     "output_type": "execute_result"
    }
   ],
   "source": [
    "A = np.array([\n",
    "\t[4, 1],\n",
    "\t[1, 3]\n",
    "])\n",
    "\n",
    "b = np.array([\n",
    "\t1,\n",
    "\t2\n",
    "])\n",
    "\n",
    "x_0 = np.array([\n",
    "\t0,\n",
    "\t0\n",
    "])\n",
    "\n",
    "conjugate_gradient(A, b, x_0, 1e-08, 10000)"
   ]
  },
  {
   "cell_type": "markdown",
   "metadata": {},
   "source": [
    "## Jacobi"
   ]
  },
  {
   "cell_type": "code",
   "execution_count": 14,
   "metadata": {},
   "outputs": [],
   "source": [
    "def Jacobi(A, b, x_0, delta, iterations=100):\n",
    "\told_values = x_0\n",
    "\tequations = len(A) # = len(b) = len(x_0)\n",
    "\tnew_values = [None] * equations\n",
    "\n",
    "\tfor _ in range(iterations):\n",
    "\t\tfor i in range(equations):\n",
    "\t\t\tsigma = 0\n",
    "\n",
    "\t\t\tfor j in range(equations):\n",
    "\t\t\t\tif i == j:\n",
    "\t\t\t\t\tcontinue\n",
    "\t\t\t\telse:\n",
    "\t\t\t\t\tsigma += A[i][j] * old_values[j]\n",
    "\n",
    "\t\t\tnew_values[i] = 1 / A[i][i] * (b[i] - sigma)\n",
    "\n",
    "\t\tare_tolerated_values = True\n",
    "\t\tfor i in range(new_values):\n",
    "\t\t\terror = abs((new_values[i] - old_values[i]) / new_values[i])\n",
    "\n",
    "\t\t\tif error > delta:\n",
    "\t\t\t\tare_tolerated_values =  False\n",
    "\t\t\t\tbreak\n",
    "\n",
    "\t\tif are_tolerated_values:\n",
    "\t\t\treturn new_values\n",
    "\n",
    "\t\told_values = new_values\n",
    "\n",
    "\treturn new_values"
   ]
  },
  {
   "cell_type": "code",
   "execution_count": 19,
   "metadata": {},
   "outputs": [
    {
     "data": {
      "text/plain": [
       "[0.09090909090909091, 0.6363636363636364]"
      ]
     },
     "execution_count": 19,
     "metadata": {},
     "output_type": "execute_result"
    }
   ],
   "source": [
    "A = np.array([\n",
    "\t[4, 1],\n",
    "\t[1, 3]\n",
    "])\n",
    "\n",
    "b = np.array([\n",
    "\t1,\n",
    "\t2\n",
    "])\n",
    "\n",
    "x_0 = np.array([\n",
    "\t0,\n",
    "\t0\n",
    "])\n",
    "\n",
    "Jacobi(A, b, x_0, 0.1, 1000)"
   ]
  },
  {
   "cell_type": "markdown",
   "metadata": {},
   "source": [
    "## Gauss-Seidel"
   ]
  },
  {
   "cell_type": "code",
   "execution_count": 57,
   "metadata": {},
   "outputs": [],
   "source": [
    "def GaussSeidel(A, b, x_0, delta, iterations=100):\n",
    "\tvalues = x_0\n",
    "\tequations = len(A) # = len(b) = len(x_0)\n",
    "\n",
    "\tfor _ in range(iterations):\n",
    "\t\tare_tolerated_values = True\n",
    "\t\tfor i in range(equations):\n",
    "\t\t\tsigma_1 = 0\n",
    "\t\t\tsigma_2 = 0\n",
    "\n",
    "\t\t\tfor j in range(0, i):\n",
    "\t\t\t\tsigma_1 += A[i][j] * values[j]\n",
    "\n",
    "\t\t\tfor j in range(i + 1, equations):\n",
    "\t\t\t\tsigma_2 += A[i][j] * values[j]\n",
    "\n",
    "\t\t\tnew_value = 1 / A[i][i] * (b[i] - sigma_1 - sigma_2)\n",
    "\t\t\terror = abs((new_value - values[i]) / new_value)\n",
    "\n",
    "\t\t\tif error > delta:\n",
    "\t\t\t\tare_tolerated_values =  False\n",
    "\n",
    "\t\t\tvalues[i] = new_value\n",
    "\n",
    "\t\tif are_tolerated_values:\n",
    "\t\t\treturn values\n",
    "\n",
    "\treturn values"
   ]
  },
  {
   "cell_type": "code",
   "execution_count": 59,
   "metadata": {},
   "outputs": [
    {
     "data": {
      "text/plain": [
       "array([0.09090909, 0.63636364])"
      ]
     },
     "execution_count": 59,
     "metadata": {},
     "output_type": "execute_result"
    }
   ],
   "source": [
    "A = np.array([\n",
    "\t[4, 1],\n",
    "\t[1, 3]\n",
    "])\n",
    "\n",
    "b = np.array([\n",
    "\t1,\n",
    "\t2\n",
    "])\n",
    "\n",
    "x_0 = np.array([\n",
    "\t0.0,\n",
    "\t0.0\n",
    "])\n",
    "\n",
    "GaussSeidel(A, b, x_0, 0.1, 1000)"
   ]
  }
 ],
 "metadata": {
  "kernelspec": {
   "display_name": "base",
   "language": "python",
   "name": "python3"
  },
  "language_info": {
   "codemirror_mode": {
    "name": "ipython",
    "version": 3
   },
   "file_extension": ".py",
   "mimetype": "text/x-python",
   "name": "python",
   "nbconvert_exporter": "python",
   "pygments_lexer": "ipython3",
   "version": "3.12.3"
  }
 },
 "nbformat": 4,
 "nbformat_minor": 2
}
